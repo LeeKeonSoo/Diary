{
 "cells": [
  {
   "cell_type": "code",
   "execution_count": 66,
   "metadata": {},
   "outputs": [
    {
     "name": "stdout",
     "output_type": "stream",
     "text": [
      "str_ is <U11 type and has 44 bytes\n",
      "byte_ is |S11 type and has 11 bytes\n"
     ]
    }
   ],
   "source": [
    "import numpy as np\n",
    "\n",
    "str = np.str_('hello world')    #str_ : 1 byte per string\n",
    "bytes = np.bytes_('hello world')    #bytes : 4 byte per string\n",
    "print(f\"str_ is {str.dtype} type and has {str.itemsize} bytes\")\n",
    "print(f\"byte_ is {bytes.dtype} type and has {bytes.itemsize} bytes\") "
   ]
  },
  {
   "cell_type": "code",
   "execution_count": 67,
   "metadata": {},
   "outputs": [
    {
     "name": "stdout",
     "output_type": "stream",
     "text": [
      "30 1\n",
      "3030 2\n",
      "3.0 2\n",
      "3.1 4\n"
     ]
    }
   ],
   "source": [
    "import numpy as np\n",
    "a = np.int8(30) # int_number -> number/8 byte만큼 array item 크기 생성.\n",
    "b = np.int16(3030) # ()안의 숫자는 변수에 대입\n",
    "\n",
    "c = np.float16(3.0) # float8은 작동 안함. number/8 byte만큼 array item 크기 생성.\n",
    "d = np.float32(3.1)\n",
    "\n",
    "print(a, a.itemsize)\n",
    "print(b, b.itemsize)\n",
    "print(c, c.itemsize)\n",
    "print(d, d.itemsize)\n",
    "\n",
    "#itemsize 넘어가면 error"
   ]
  },
  {
   "cell_type": "code",
   "execution_count": 68,
   "metadata": {},
   "outputs": [
    {
     "name": "stdout",
     "output_type": "stream",
     "text": [
      "name: float64, type: <class 'numpy.float64'>, itemsize: 8\n"
     ]
    }
   ],
   "source": [
    "# data type object 1\n",
    "dt = np.dtype(np.float64)\n",
    "print(f\"name: {dt.name}, type: {dt.type}, itemsize: {dt.itemsize}\")"
   ]
  },
  {
   "cell_type": "code",
   "execution_count": 2,
   "metadata": {},
   "outputs": [
    {
     "name": "stdout",
     "output_type": "stream",
     "text": [
      "Grades of john is [6. 7.]\n",
      "names are john\n",
      "<class 'numpy.void'>\n"
     ]
    }
   ],
   "source": [
    "import numpy as np\n",
    "\n",
    "dt = np.dtype([('name', np.unicode_, 16), ('grades', np.float64, (2,))]) # structured dtype name\n",
    "x = np.array([('sarah', (8.0, 7.0)), ('john', (6.0, 7.0))], dtype = dt)\n",
    "\n",
    "print(f\"Grades of {x[1]['name']} is {x[1]['grades']}\")\n",
    "print(f\"names are {x[1]['name']}\")\n",
    "print(type(x[1]))"
   ]
  },
  {
   "cell_type": "code",
   "execution_count": null,
   "metadata": {},
   "outputs": [
    {
     "name": "stdout",
     "output_type": "stream",
     "text": [
      "[1.         1.66666667 2.33333333 3.         3.66666667 4.33333333\n",
      " 5.        ]\n"
     ]
    }
   ],
   "source": [
    "import numpy as np\n",
    "\n",
    "print(np.linspace(1, 5, 7))"
   ]
  },
  {
   "cell_type": "code",
   "execution_count": null,
   "metadata": {},
   "outputs": [
    {
     "data": {
      "text/plain": [
       "6"
      ]
     },
     "execution_count": 61,
     "metadata": {},
     "output_type": "execute_result"
    }
   ],
   "source": [
    "import numpy as np\n",
    "\n",
    "x = np.arange(24).reshape(2, 3, 4)\n",
    "\n",
    "x\n",
    "x[0]\n",
    "x[0, 1]\n",
    "x[0, 1, 2]"
   ]
  },
  {
   "cell_type": "code",
   "execution_count": null,
   "metadata": {},
   "outputs": [
    {
     "data": {
      "text/plain": [
       "array([[[0, 0, 0, 0, 0],\n",
       "        [1, 1, 1, 1, 1],\n",
       "        [2, 2, 2, 2, 2]],\n",
       "\n",
       "       [[0, 1, 2, 3, 4],\n",
       "        [0, 1, 2, 3, 4],\n",
       "        [0, 1, 2, 3, 4]]])"
      ]
     },
     "execution_count": 62,
     "metadata": {},
     "output_type": "execute_result"
    }
   ],
   "source": [
    "np.indices((3, 5))"
   ]
  },
  {
   "cell_type": "code",
   "execution_count": null,
   "metadata": {},
   "outputs": [
    {
     "name": "stdout",
     "output_type": "stream",
     "text": [
      "a = [11 12  3  4  5] ; b = [11 12] ; base = [11 12  3  4  5]\n",
      "a = [1 2 3 4 5] ; b = [11 12] ; base = None\n"
     ]
    }
   ],
   "source": [
    "# Replicating, Joining \n",
    "a = np.array([1, 2, 3, 4, 5])\n",
    "b = a[:2]\n",
    "b += 10\n",
    "print('a =', a, '; b =', b, '; base =', b. base)    # view\n",
    "\n",
    "a = np.array([1, 2, 3, 4, 5])\n",
    "b = a[:2].copy()\n",
    "b += 10\n",
    "print('a =', a, '; b =', b, '; base =', b. base)    # copy"
   ]
  }
 ],
 "metadata": {
  "kernelspec": {
   "display_name": "Python 3",
   "language": "python",
   "name": "python3"
  },
  "language_info": {
   "codemirror_mode": {
    "name": "ipython",
    "version": 3
   },
   "file_extension": ".py",
   "mimetype": "text/x-python",
   "name": "python",
   "nbconvert_exporter": "python",
   "pygments_lexer": "ipython3",
   "version": "3.12.2"
  }
 },
 "nbformat": 4,
 "nbformat_minor": 2
}
